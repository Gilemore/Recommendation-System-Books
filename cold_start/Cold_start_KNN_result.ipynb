{
 "cells": [
  {
   "cell_type": "code",
   "execution_count": 71,
   "metadata": {},
   "outputs": [],
   "source": [
    "import pandas as pd\n",
    "from pyspark.sql import SparkSession\n",
    "from pyspark.ml.recommendation import ALS, ALSModel\n",
    "from pyspark.sql import Row\n",
    "from pyspark.ml.evaluation import RegressionEvaluator\n",
    "\n",
    "from pyspark.ml.feature import StringIndexer\n",
    "from pyspark.ml.feature import OneHotEncoderEstimator\n",
    "from pyspark.ml.linalg import Vectors\n",
    "from pyspark.ml.feature import VectorAssembler\n",
    "from pyspark.sql.types import IntegerType\n",
    "from pyspark.ml.regression import LinearRegression\n",
    "\n",
    "from pyspark.ml.feature import BucketedRandomProjectionLSH\n",
    "from pyspark.ml.linalg import Vectors\n",
    "from pyspark.sql.functions import col\n",
    "spark = SparkSession.builder.appName('tmp').getOrCreate()"
   ]
  },
  {
   "cell_type": "code",
   "execution_count": 53,
   "metadata": {},
   "outputs": [
    {
     "name": "stdout",
     "output_type": "stream",
     "text": [
      "+-------+-------+------+\n",
      "|user_id|book_id|rating|\n",
      "+-------+-------+------+\n",
      "|   3027|  56510|     5|\n",
      "|   3027|  57413|     3|\n",
      "|   3027|  58353|     5|\n",
      "|   3027|  60050|     4|\n",
      "|   3027|  68880|     3|\n",
      "+-------+-------+------+\n",
      "only showing top 5 rows\n",
      "\n"
     ]
    }
   ],
   "source": [
    "df=spark.read.csv(\"../final_val.csv\")\n",
    "df=df.withColumnRenamed(\"_c0\",\"user_id\")\\\n",
    "    .withColumnRenamed(\"_c1\",\"book_id\")\\\n",
    "    .withColumnRenamed(\"_c2\",\"is_read\")\\\n",
    "    .withColumnRenamed(\"_c3\",\"rating\")\\\n",
    "    .withColumnRenamed(\"_c4\",\"is_reviewed\")\n",
    "df=df.select(\"user_id\",\"book_id\",\"rating\")\\\n",
    "    .withColumn(\"user_id\", df[\"user_id\"].cast(IntegerType()))\\\n",
    "    .withColumn(\"book_id\", df[\"book_id\"].cast(IntegerType()))\\\n",
    "    .withColumn(\"rating\", df[\"rating\"].cast(IntegerType()))\n",
    "df=df.filter(df.rating!=0)\n",
    "df,test=df.randomSplit([0.8,0.2],seed=100)\n",
    "df.show(5)"
   ]
  },
  {
   "cell_type": "code",
   "execution_count": 54,
   "metadata": {},
   "outputs": [],
   "source": [
    "book_id = df.select('book_id').distinct()\n",
    "training_books,holdout_books=book_id.select(\"book_id\").distinct().randomSplit([0.8,0.2],seed=100)\n",
    "train = training_books.alias('df1').join(df.alias(\"df2\"), training_books.book_id == df.book_id).select(\"df2.*\")\n",
    "holdout= holdout_books.alias('df1').join(df.alias(\"df2\"), holdout_books.book_id == df.book_id).select(\"df2.*\")"
   ]
  },
  {
   "cell_type": "code",
   "execution_count": 34,
   "metadata": {},
   "outputs": [],
   "source": [
    "k=spark.read.json(\"../goodreads_book_genres_initial.json\")\n",
    "books_id_map=spark.read.parquet(\"../books_id_mapping.parquet\")"
   ]
  },
  {
   "cell_type": "code",
   "execution_count": 35,
   "metadata": {},
   "outputs": [
    {
     "data": {
      "text/plain": [
       "[Row(book_id='5333265', genres=Row(children=None, comics, graphic=None, fantasy, paranormal=None, fiction=None, history, historical fiction, biography=1, mystery, thriller, crime=None, non-fiction=None, poetry=None, romance=None, young-adult=None)),\n",
       " Row(book_id='1333909', genres=Row(children=None, comics, graphic=None, fantasy, paranormal=None, fiction=219, history, historical fiction, biography=5, mystery, thriller, crime=None, non-fiction=None, poetry=None, romance=None, young-adult=None)),\n",
       " Row(book_id='7327624', genres=Row(children=None, comics, graphic=None, fantasy, paranormal=31, fiction=8, history, historical fiction, biography=None, mystery, thriller, crime=1, non-fiction=None, poetry=1, romance=None, young-adult=None)),\n",
       " Row(book_id='6066819', genres=Row(children=None, comics, graphic=None, fantasy, paranormal=None, fiction=555, history, historical fiction, biography=None, mystery, thriller, crime=10, non-fiction=None, poetry=None, romance=23, young-adult=None)),\n",
       " Row(book_id='287140', genres=Row(children=None, comics, graphic=None, fantasy, paranormal=None, fiction=None, history, historical fiction, biography=None, mystery, thriller, crime=None, non-fiction=3, poetry=None, romance=None, young-adult=None))]"
      ]
     },
     "execution_count": 35,
     "metadata": {},
     "output_type": "execute_result"
    }
   ],
   "source": [
    "k.take(5)"
   ]
  },
  {
   "cell_type": "code",
   "execution_count": 36,
   "metadata": {},
   "outputs": [],
   "source": [
    "df=k.rdd.map(lambda x:[int(x.book_id)]+[int(i) if i else 0 for i in x.genres])"
   ]
  },
  {
   "cell_type": "code",
   "execution_count": 37,
   "metadata": {},
   "outputs": [],
   "source": [
    "df=df.toDF([\"book_id\",\"children\", \"comics_graphic\", \"fantasy_paranormal\", \n",
    "           \"fiction\", \"history_historical_fiction_biography\", \"mystery_thriller_crime\", \n",
    "            \"non_fiction\", \"poetry\", \"romance\", \"young_adult\"])\n",
    "df=df.join(books_id_map,books_id_map.real_book_id==df.book_id).drop(\"real_book_id\").drop(\"book_id\").withColumnRenamed(\"book_id_csv\",\"book_id\")"
   ]
  },
  {
   "cell_type": "code",
   "execution_count": 38,
   "metadata": {},
   "outputs": [
    {
     "name": "stdout",
     "output_type": "stream",
     "text": [
      "root\n",
      " |-- children: long (nullable = true)\n",
      " |-- comics_graphic: long (nullable = true)\n",
      " |-- fantasy_paranormal: long (nullable = true)\n",
      " |-- fiction: long (nullable = true)\n",
      " |-- history_historical_fiction_biography: long (nullable = true)\n",
      " |-- mystery_thriller_crime: long (nullable = true)\n",
      " |-- non_fiction: long (nullable = true)\n",
      " |-- poetry: long (nullable = true)\n",
      " |-- romance: long (nullable = true)\n",
      " |-- young_adult: long (nullable = true)\n",
      " |-- book_id: string (nullable = true)\n",
      "\n"
     ]
    }
   ],
   "source": [
    "df.printSchema()"
   ]
  },
  {
   "cell_type": "code",
   "execution_count": 40,
   "metadata": {},
   "outputs": [
    {
     "name": "stdout",
     "output_type": "stream",
     "text": [
      "+--------+--------------+------------------+-------+------------------------------------+----------------------+-----------+------+-------+-----------+-------+\n",
      "|children|comics_graphic|fantasy_paranormal|fiction|history_historical_fiction_biography|mystery_thriller_crime|non_fiction|poetry|romance|young_adult|book_id|\n",
      "+--------+--------------+------------------+-------+------------------------------------+----------------------+-----------+------+-------+-----------+-------+\n",
      "|       0|             0|                 0|     22|                                 136|                     0|       1577|     0|      0|          0|  17588|\n",
      "|       0|             0|                 0|      0|                                 198|                     0|        742|     0|      0|          0|   1189|\n",
      "|       0|             0|                 0|     58|                                   0|                     0|          0|     0|      0|          0|  18828|\n",
      "|       0|             0|                 0|      0|                                   0|                     0|         31|     0|      0|          0| 213470|\n",
      "|       0|             0|              1240|   6636|                                   0|                    45|          0|     0|      0|          0| 301119|\n",
      "+--------+--------------+------------------+-------+------------------------------------+----------------------+-----------+------+-------+-----------+-------+\n",
      "only showing top 5 rows\n",
      "\n"
     ]
    }
   ],
   "source": [
    "df.show(5)"
   ]
  },
  {
   "cell_type": "markdown",
   "metadata": {},
   "source": [
    "# KNN model"
   ]
  },
  {
   "cell_type": "code",
   "execution_count": 41,
   "metadata": {},
   "outputs": [],
   "source": [
    "features=[\"children\", \"comics_graphic\", \"fantasy_paranormal\", \n",
    "           \"fiction\", \"history_historical_fiction_biography\", \"mystery_thriller_crime\", \n",
    "            \"non_fiction\", \"poetry\", \"romance\", \"young_adult\"]\n",
    "vecAssembler = VectorAssembler(inputCols=features, outputCol=\"features\")\n",
    "df_transform=vecAssembler.transform(df)\n",
    "train_knn=df_transform.join(train,\"book_id\").select(\"book_id\",\"features\")\n",
    "holdout_knn=df_transform.join(holdout,\"book_id\").select(\"book_id\",\"features\")\n",
    "#train_knn.take(5)"
   ]
  },
  {
   "cell_type": "code",
   "execution_count": 43,
   "metadata": {},
   "outputs": [
    {
     "data": {
      "text/plain": [
       "(61011, 15111)"
      ]
     },
     "execution_count": 43,
     "metadata": {},
     "output_type": "execute_result"
    }
   ],
   "source": [
    "train_knn.count(),holdout_knn.count()"
   ]
  },
  {
   "cell_type": "code",
   "execution_count": 49,
   "metadata": {},
   "outputs": [
    {
     "name": "stdout",
     "output_type": "stream",
     "text": [
      "Approximately joining dfA and dfB on Euclidean distance smaller than0.8:\n",
      "+-----------+---------+-----------------+\n",
      "|holdout_idA|train_idB|EuclideanDistance|\n",
      "+-----------+---------+-----------------+\n",
      "|      42140|   678856|              0.0|\n",
      "|     137847|   389374|              0.0|\n",
      "|     197954|   488467|              0.0|\n",
      "|     492684|   602517|              0.0|\n",
      "|     314547|  1911958|              0.0|\n",
      "|     936241|   473934|              0.0|\n",
      "|     863755|   444643|              0.0|\n",
      "|      75533|   224412|              0.0|\n",
      "|     202733|  1146063|              0.0|\n",
      "|     462994|   920473|              0.0|\n",
      "+-----------+---------+-----------------+\n",
      "only showing top 10 rows\n",
      "\n"
     ]
    }
   ],
   "source": [
    "brp = BucketedRandomProjectionLSH(inputCol=\"features\", outputCol=\"hashes\", bucketLength=2.0,\n",
    "                                  numHashTables=5)\n",
    "brp_model = brp.fit(train_knn)\n",
    "print(\"Approximately joining dfA and dfB on Euclidean distance smaller than 0.8:\")\n",
    "j=brp_model.approxSimilarityJoin(holdout_knn, train_knn, 0.8, distCol=\"EuclideanDistance\")\\\n",
    "    .select(col(\"datasetA.book_id\").alias(\"holdout_idA\"),\\\n",
    "    col(\"datasetB.book_id\").alias(\"train_idB\"),\\\n",
    "    col(\"EuclideanDistance\"))\n",
    "j.show(10)"
   ]
  },
  {
   "cell_type": "code",
   "execution_count": 50,
   "metadata": {},
   "outputs": [
    {
     "data": {
      "text/plain": [
       "([Row(min(count)=1)], [Row(max(count)=1080)])"
      ]
     },
     "execution_count": 50,
     "metadata": {},
     "output_type": "execute_result"
    }
   ],
   "source": [
    "tmp1=j.groupBy(\"holdout_idA\").count()\n",
    "tmp1.agg({\"count\":\"min\"}).collect(),tmp1.agg({\"count\":\"max\"}).collect()"
   ]
  },
  {
   "cell_type": "markdown",
   "metadata": {},
   "source": [
    "# Latent Represent training set"
   ]
  },
  {
   "cell_type": "code",
   "execution_count": 55,
   "metadata": {},
   "outputs": [],
   "source": [
    "als = ALS(userCol='user_id',\n",
    "            itemCol='book_id',\n",
    "            ratingCol='rating',\n",
    "          coldStartStrategy='drop',\n",
    "              nonnegative=True\n",
    "              )\n",
    "model = als.fit(train)"
   ]
  },
  {
   "cell_type": "code",
   "execution_count": 56,
   "metadata": {},
   "outputs": [],
   "source": [
    "ItemMatrix=model.itemFactors\n",
    "UserMatrix=model.userFactors\n",
    "productFeatures=model.itemFactors.rdd.map(lambda x: [x.id]+[i for i in x.features])\\\n",
    "    .toDF([\"book_id\"]+[\"features\"+str(i) for i in range(10)])"
   ]
  },
  {
   "cell_type": "code",
   "execution_count": 58,
   "metadata": {},
   "outputs": [],
   "source": [
    "#productFeatures.show(5)"
   ]
  },
  {
   "cell_type": "markdown",
   "metadata": {},
   "source": [
    "# Latent Represent holdout set"
   ]
  },
  {
   "cell_type": "code",
   "execution_count": 59,
   "metadata": {},
   "outputs": [],
   "source": [
    "train_df=j.join(productFeatures,j.train_idB==productFeatures.book_id).drop(\"book_id\")"
   ]
  },
  {
   "cell_type": "code",
   "execution_count": 60,
   "metadata": {},
   "outputs": [],
   "source": [
    "gdf=train_df.groupBy(\"holdout_idA\")\n",
    "df_all=gdf.agg({\"features0\": \"avg\",\"features1\":\"avg\",\"features2\":\"avg\",\"features3\":\"avg\",\n",
    "                \"features4\": \"avg\",\"features5\":\"avg\",\"features6\":\"avg\",\"features7\":\"avg\",\n",
    "               \"features8\": \"avg\",\"features9\":\"avg\"})\\\n",
    "        .withColumnRenamed(\"avg(features0)\",\"features0\").withColumnRenamed(\"avg(features1)\",\"features1\")\\\n",
    "        .withColumnRenamed(\"avg(features2)\",\"features2\").withColumnRenamed(\"avg(features3)\",\"features3\")\\\n",
    "        .withColumnRenamed(\"avg(features4)\",\"features4\").withColumnRenamed(\"avg(features5)\",\"features5\")\\\n",
    "        .withColumnRenamed(\"avg(features6)\",\"features6\").withColumnRenamed(\"avg(features7)\",\"features7\")\\\n",
    "        .withColumnRenamed(\"avg(features8)\",\"features8\").withColumnRenamed(\"avg(features9)\",\"features9\")"
   ]
  },
  {
   "cell_type": "code",
   "execution_count": 62,
   "metadata": {},
   "outputs": [],
   "source": [
    "extra_items=df_all.rdd.map(lambda x:[x.holdout_idA]+[[x.features0,x.features1,x.features2,x.features3,x.features4,x.features5,\n",
    "                                                     x.features6,x.features7,x.features8,x.features9]]).toDF([\"book_id\",\"features\"])"
   ]
  },
  {
   "cell_type": "code",
   "execution_count": 16,
   "metadata": {},
   "outputs": [],
   "source": [
    "k1=holdout.select(\"book_id\").distinct()\n",
    "extra_items=extra_items.join(k1,\"book_id\")"
   ]
  },
  {
   "cell_type": "markdown",
   "metadata": {},
   "source": [
    "# New model"
   ]
  },
  {
   "cell_type": "code",
   "execution_count": 63,
   "metadata": {},
   "outputs": [],
   "source": [
    "extra_items=extra_items.withColumn(\"book_id\", extra_items[\"book_id\"].cast(IntegerType()))"
   ]
  },
  {
   "cell_type": "code",
   "execution_count": 64,
   "metadata": {},
   "outputs": [],
   "source": [
    "extra_items=extra_items.withColumnRenamed(\"features\",\"book_features\")\n",
    "UserMatrix=UserMatrix.withColumnRenamed(\"id\",\"user_id\").withColumnRenamed(\"features\",\"user_features\")\n",
    "k2=holdout.select(\"user_id\").distinct()\n",
    "UserMatrix=UserMatrix.join(k2,\"user_id\")\n",
    "l=extra_items.crossJoin(UserMatrix)\n",
    "l=l.rdd.map(lambda x: [x.book_id,x.user_id]+[sum([i*j for i,j in zip(x.book_features,x.user_features)])])\n",
    "l=l.take(2000000)"
   ]
  },
  {
   "cell_type": "code",
   "execution_count": 65,
   "metadata": {},
   "outputs": [
    {
     "data": {
      "text/plain": [
       "[Row(book_id=2338369, user_id=16339, new_rating=1.951860844324294),\n",
       " Row(book_id=2338369, user_id=100986, new_rating=2.5821718500905435),\n",
       " Row(book_id=2338369, user_id=264147, new_rating=2.899381590239869),\n",
       " Row(book_id=2338369, user_id=352633, new_rating=2.4593578578747004),\n",
       " Row(book_id=2338369, user_id=512952, new_rating=2.8397713132373634)]"
      ]
     },
     "execution_count": 65,
     "metadata": {},
     "output_type": "execute_result"
    }
   ],
   "source": [
    "l=spark.createDataFrame(l,[\"book_id\",\"user_id\",\"new_rating\"])\n",
    "l.take(5)"
   ]
  },
  {
   "cell_type": "code",
   "execution_count": 20,
   "metadata": {},
   "outputs": [],
   "source": [
    "l=extra_items.crossJoin(UserMatrix)\n",
    "l2=l.rdd.map(lambda x: [x.book_id,x.user_id]+[sum([i*j for i,j in zip(x.book_features,x.user_features)])])\n",
    "l2=l2.take(3000000)\n",
    "l2=spark.createDataFrame(l2,[\"book_id\",\"user_id\",\"new_rating\"])"
   ]
  },
  {
   "cell_type": "code",
   "execution_count": 67,
   "metadata": {},
   "outputs": [],
   "source": [
    "# ===========================================================================================\n",
    "l.createOrReplaceTempView(\"l\")\n",
    "holdout.createOrReplaceTempView(\"holdout\")"
   ]
  },
  {
   "cell_type": "code",
   "execution_count": 68,
   "metadata": {},
   "outputs": [],
   "source": [
    "res=spark.sql(\"SELECT holdout.book_id, holdout.user_id, l.new_rating FROM l JOIN holdout ON l.user_id = holdout.user_id AND l.book_id = holdout.book_id\")"
   ]
  },
  {
   "cell_type": "code",
   "execution_count": 73,
   "metadata": {},
   "outputs": [],
   "source": [
    "beauty=res.take(20)"
   ]
  },
  {
   "cell_type": "code",
   "execution_count": 91,
   "metadata": {},
   "outputs": [],
   "source": [
    "pd.set_option(\"display.column_space\",20)"
   ]
  },
  {
   "cell_type": "code",
   "execution_count": 92,
   "metadata": {},
   "outputs": [
    {
     "data": {
      "text/html": [
       "<div>\n",
       "<style scoped>\n",
       "    .dataframe tbody tr th:only-of-type {\n",
       "        vertical-align: middle;\n",
       "    }\n",
       "\n",
       "    .dataframe tbody tr th {\n",
       "        vertical-align: top;\n",
       "    }\n",
       "\n",
       "    .dataframe thead th {\n",
       "        text-align: right;\n",
       "    }\n",
       "</style>\n",
       "<table border=\"1\" class=\"dataframe\">\n",
       "  <thead>\n",
       "    <tr style=\"text-align: right;\">\n",
       "      <th></th>\n",
       "      <th>book_id</th>\n",
       "      <th>user_id</th>\n",
       "      <th>rating</th>\n",
       "    </tr>\n",
       "  </thead>\n",
       "  <tbody>\n",
       "    <tr>\n",
       "      <th>0</th>\n",
       "      <td>1174955</td>\n",
       "      <td>262554</td>\n",
       "      <td>2.456925</td>\n",
       "    </tr>\n",
       "    <tr>\n",
       "      <th>1</th>\n",
       "      <td>173455</td>\n",
       "      <td>583601</td>\n",
       "      <td>4.063086</td>\n",
       "    </tr>\n",
       "    <tr>\n",
       "      <th>2</th>\n",
       "      <td>140678</td>\n",
       "      <td>264845</td>\n",
       "      <td>1.765560</td>\n",
       "    </tr>\n",
       "    <tr>\n",
       "      <th>3</th>\n",
       "      <td>93681</td>\n",
       "      <td>412372</td>\n",
       "      <td>1.930299</td>\n",
       "    </tr>\n",
       "    <tr>\n",
       "      <th>4</th>\n",
       "      <td>857871</td>\n",
       "      <td>646726</td>\n",
       "      <td>1.758787</td>\n",
       "    </tr>\n",
       "    <tr>\n",
       "      <th>5</th>\n",
       "      <td>13429</td>\n",
       "      <td>754276</td>\n",
       "      <td>2.998549</td>\n",
       "    </tr>\n",
       "    <tr>\n",
       "      <th>6</th>\n",
       "      <td>69621</td>\n",
       "      <td>214423</td>\n",
       "      <td>3.283679</td>\n",
       "    </tr>\n",
       "    <tr>\n",
       "      <th>7</th>\n",
       "      <td>6361</td>\n",
       "      <td>517672</td>\n",
       "      <td>1.539619</td>\n",
       "    </tr>\n",
       "    <tr>\n",
       "      <th>8</th>\n",
       "      <td>29105</td>\n",
       "      <td>173458</td>\n",
       "      <td>3.574426</td>\n",
       "    </tr>\n",
       "    <tr>\n",
       "      <th>9</th>\n",
       "      <td>8043</td>\n",
       "      <td>801487</td>\n",
       "      <td>4.260011</td>\n",
       "    </tr>\n",
       "    <tr>\n",
       "      <th>10</th>\n",
       "      <td>414150</td>\n",
       "      <td>29188</td>\n",
       "      <td>1.725927</td>\n",
       "    </tr>\n",
       "    <tr>\n",
       "      <th>11</th>\n",
       "      <td>459065</td>\n",
       "      <td>108450</td>\n",
       "      <td>2.361203</td>\n",
       "    </tr>\n",
       "    <tr>\n",
       "      <th>12</th>\n",
       "      <td>240103</td>\n",
       "      <td>418146</td>\n",
       "      <td>3.062867</td>\n",
       "    </tr>\n",
       "    <tr>\n",
       "      <th>13</th>\n",
       "      <td>402161</td>\n",
       "      <td>13375</td>\n",
       "      <td>2.103737</td>\n",
       "    </tr>\n",
       "    <tr>\n",
       "      <th>14</th>\n",
       "      <td>1735753</td>\n",
       "      <td>143155</td>\n",
       "      <td>1.820411</td>\n",
       "    </tr>\n",
       "    <tr>\n",
       "      <th>15</th>\n",
       "      <td>8043</td>\n",
       "      <td>564488</td>\n",
       "      <td>3.659567</td>\n",
       "    </tr>\n",
       "    <tr>\n",
       "      <th>16</th>\n",
       "      <td>34970</td>\n",
       "      <td>123678</td>\n",
       "      <td>4.232965</td>\n",
       "    </tr>\n",
       "    <tr>\n",
       "      <th>17</th>\n",
       "      <td>578538</td>\n",
       "      <td>398835</td>\n",
       "      <td>2.676818</td>\n",
       "    </tr>\n",
       "    <tr>\n",
       "      <th>18</th>\n",
       "      <td>306313</td>\n",
       "      <td>136652</td>\n",
       "      <td>1.436311</td>\n",
       "    </tr>\n",
       "    <tr>\n",
       "      <th>19</th>\n",
       "      <td>451746</td>\n",
       "      <td>306540</td>\n",
       "      <td>2.276866</td>\n",
       "    </tr>\n",
       "  </tbody>\n",
       "</table>\n",
       "</div>"
      ],
      "text/plain": [
       "    book_id  user_id    rating\n",
       "0   1174955   262554  2.456925\n",
       "1    173455   583601  4.063086\n",
       "2    140678   264845  1.765560\n",
       "3     93681   412372  1.930299\n",
       "4    857871   646726  1.758787\n",
       "5     13429   754276  2.998549\n",
       "6     69621   214423  3.283679\n",
       "7      6361   517672  1.539619\n",
       "8     29105   173458  3.574426\n",
       "9      8043   801487  4.260011\n",
       "10   414150    29188  1.725927\n",
       "11   459065   108450  2.361203\n",
       "12   240103   418146  3.062867\n",
       "13   402161    13375  2.103737\n",
       "14  1735753   143155  1.820411\n",
       "15     8043   564488  3.659567\n",
       "16    34970   123678  4.232965\n",
       "17   578538   398835  2.676818\n",
       "18   306313   136652  1.436311\n",
       "19   451746   306540  2.276866"
      ]
     },
     "execution_count": 92,
     "metadata": {},
     "output_type": "execute_result"
    }
   ],
   "source": [
    "pd.options.display.max_rows\n",
    "pd.DataFrame(beauty,columns=[\"book_id\",\"user_id\",\"rating\"])"
   ]
  },
  {
   "cell_type": "markdown",
   "metadata": {},
   "source": [
    "# Examples"
   ]
  },
  {
   "cell_type": "code",
   "execution_count": 93,
   "metadata": {},
   "outputs": [
    {
     "name": "stdout",
     "output_type": "stream",
     "text": [
      "[Row(user_id=399688, book_id=7048, rating=5), Row(user_id=134586, book_id=7048, rating=5), Row(user_id=507928, book_id=7048, rating=5), Row(user_id=756425, book_id=7048, rating=4), Row(user_id=398089, book_id=7048, rating=4), Row(user_id=140406, book_id=7048, rating=4), Row(user_id=357754, book_id=7048, rating=3)]\n",
      "\n",
      "\n",
      "Predicted rating: 3.14\n",
      "[Row(rating=5), Row(rating=5), Row(rating=5), Row(rating=4), Row(rating=4), Row(rating=4), Row(rating=3)]\n"
     ]
    }
   ],
   "source": [
    "idd=7048\n",
    "print(df.filter(df.book_id==idd).collect())\n",
    "print(\"\\n\")\n",
    "print(\"Predicted rating:\",3.14)\n",
    "print(holdout.filter(holdout.book_id==idd).select(\"rating\").collect())"
   ]
  },
  {
   "cell_type": "code",
   "execution_count": 62,
   "metadata": {},
   "outputs": [
    {
     "name": "stdout",
     "output_type": "stream",
     "text": [
      "[Row(children=0, comics_graphic=0, fantasy_paranormal=969, fiction=2317, history_historical_fiction_biography=0, mystery_thriller_crime=249, non_fiction=0, poetry=0, romance=81, young_adult=0, book_id='46743')]\n",
      "\n",
      "\n",
      "Predicted rating: 3.01\n",
      "[Row(rating='2'), Row(rating='3')]\n"
     ]
    }
   ],
   "source": [
    "idd=46743\n",
    "print(df.filter(df.book_id==idd).collect())\n",
    "print(\"\\n\")\n",
    "print(\"Predicted rating:\",3.01)\n",
    "print(holdout.filter(holdout.book_id==idd).select(\"rating\").collect())"
   ]
  },
  {
   "cell_type": "code",
   "execution_count": 63,
   "metadata": {},
   "outputs": [
    {
     "name": "stdout",
     "output_type": "stream",
     "text": [
      "[Row(children=1228, comics_graphic=0, fantasy_paranormal=0, fiction=546, history_historical_fiction_biography=29, mystery_thriller_crime=1936, non_fiction=0, poetry=0, romance=0, young_adult=562, book_id='71792')]\n",
      "\n",
      "\n",
      "Predicted rating: 3.14\n",
      "[Row(rating='4')]\n"
     ]
    }
   ],
   "source": [
    "idd=71792\n",
    "print(df.filter(df.book_id==idd).collect())\n",
    "print(\"\\n\")\n",
    "print(\"Predicted rating:\",3.14)\n",
    "print(holdout.filter(holdout.book_id==idd).select(\"rating\").collect())"
   ]
  },
  {
   "cell_type": "code",
   "execution_count": 64,
   "metadata": {},
   "outputs": [
    {
     "name": "stdout",
     "output_type": "stream",
     "text": [
      "[Row(children=0, comics_graphic=0, fantasy_paranormal=0, fiction=3953, history_historical_fiction_biography=136, mystery_thriller_crime=14462, non_fiction=0, poetry=0, romance=0, young_adult=70, book_id='173455')]\n",
      "\n",
      "\n",
      "Predicted rating: 4.25\n",
      "[Row(rating='4')]\n"
     ]
    }
   ],
   "source": [
    "idd=173455\n",
    "print(df.filter(df.book_id==idd).collect())\n",
    "print(\"\\n\")\n",
    "print(\"Predicted rating:\",4.25)\n",
    "print(holdout.filter(holdout.book_id==idd).select(\"rating\").collect())"
   ]
  },
  {
   "cell_type": "code",
   "execution_count": 65,
   "metadata": {},
   "outputs": [
    {
     "name": "stdout",
     "output_type": "stream",
     "text": [
      "[Row(children=0, comics_graphic=0, fantasy_paranormal=0, fiction=1, history_historical_fiction_biography=0, mystery_thriller_crime=0, non_fiction=0, poetry=0, romance=0, young_adult=0, book_id='1588090')]\n",
      "\n",
      "\n",
      "True rating: 1.87\n",
      "[Row(rating='2')]\n"
     ]
    }
   ],
   "source": [
    "idd=1588090\n",
    "print(df.filter(df.book_id==idd).collect())\n",
    "print(\"\\n\")\n",
    "print(\"Predicted rating:\",1.87)\n",
    "print(holdout.filter(holdout.book_id==idd).select(\"rating\").collect())"
   ]
  },
  {
   "cell_type": "code",
   "execution_count": 68,
   "metadata": {},
   "outputs": [
    {
     "name": "stdout",
     "output_type": "stream",
     "text": [
      "[Row(children=0, comics_graphic=0, fantasy_paranormal=0, fiction=0, history_historical_fiction_biography=0, mystery_thriller_crime=0, non_fiction=3, poetry=0, romance=0, young_adult=0, book_id='788525')]\n",
      "\n",
      "\n",
      "Predicted rating: 1.58\n",
      "[Row(rating='5')]\n"
     ]
    }
   ],
   "source": [
    "idd=788525\n",
    "print(df.filter(df.book_id==idd).collect())\n",
    "print(\"\\n\")\n",
    "print(\"Predicted rating:\",1.58)\n",
    "print(holdout.filter(holdout.book_id==idd).select(\"rating\").collect())"
   ]
  },
  {
   "cell_type": "markdown",
   "metadata": {
    "jupyter": {
     "outputs_hidden": true
    }
   },
   "source": [
    "# predictions"
   ]
  },
  {
   "cell_type": "code",
   "execution_count": 94,
   "metadata": {},
   "outputs": [],
   "source": [
    "train=train.select(\"user_id\",\"book_id\",\"rating\")\n",
    "res=res.union(train)\n",
    "res=res.withColumn(\"user_id\", res[\"user_id\"].cast(IntegerType()))\\\n",
    "    .withColumn(\"book_id\", res[\"book_id\"].cast(IntegerType()))\\\n",
    "    .withColumn(\"rating\", res[\"new_rating\"].cast(IntegerType()))\n",
    "als = ALS(userCol='user_id',\n",
    "            itemCol='book_id',\n",
    "            ratingCol='rating',\n",
    "           coldStartStrategy='drop',\n",
    "              nonnegative=True\n",
    "              )\n",
    "model1 = als.fit(res)"
   ]
  },
  {
   "cell_type": "code",
   "execution_count": 95,
   "metadata": {},
   "outputs": [
    {
     "name": "stdout",
     "output_type": "stream",
     "text": [
      "Root-mean-square error = 2.4694402748293944\n"
     ]
    }
   ],
   "source": [
    "test=test.withColumn(\"user_id\", test[\"user_id\"].cast(IntegerType()))\\\n",
    "    .withColumn(\"book_id\", test[\"book_id\"].cast(IntegerType()))\\\n",
    "    .withColumn(\"rating\", test[\"rating\"].cast(IntegerType()))\n",
    "predictions = model1.transform(test)\n",
    "evaluator = RegressionEvaluator(metricName=\"rmse\", labelCol=\"rating\",\n",
    "                                predictionCol=\"prediction\")\n",
    "rmse = evaluator.evaluate(predictions)\n",
    "print(\"Root-mean-square error = \" + str(rmse))"
   ]
  },
  {
   "cell_type": "code",
   "execution_count": 96,
   "metadata": {},
   "outputs": [],
   "source": [
    "df,test=df.randomSplit([0.8,0.2],seed=100)\n",
    "df=df.withColumn(\"user_id\", df[\"user_id\"].cast(IntegerType()))\\\n",
    "    .withColumn(\"book_id\", df[\"book_id\"].cast(IntegerType()))\\\n",
    "    .withColumn(\"rating\", df[\"rating\"].cast(IntegerType()))\n",
    "als = ALS(userCol='user_id',\n",
    "            itemCol='book_id',\n",
    "            ratingCol='rating',\n",
    "          coldStartStrategy='drop',\n",
    "              nonnegative=True\n",
    "              )\n",
    "model = als.fit(df)"
   ]
  },
  {
   "cell_type": "code",
   "execution_count": 97,
   "metadata": {},
   "outputs": [
    {
     "name": "stdout",
     "output_type": "stream",
     "text": [
      "Root-mean-square error = 1.4767669838797601\n"
     ]
    }
   ],
   "source": [
    "test=test.withColumn(\"user_id\", test[\"user_id\"].cast(IntegerType()))\\\n",
    "    .withColumn(\"book_id\", test[\"book_id\"].cast(IntegerType()))\\\n",
    "    .withColumn(\"rating\", test[\"rating\"].cast(IntegerType()))\n",
    "predictions = model.transform(test)\n",
    "evaluator = RegressionEvaluator(metricName=\"rmse\", labelCol=\"rating\",\n",
    "                                predictionCol=\"prediction\")\n",
    "rmse = evaluator.evaluate(predictions)\n",
    "print(\"Root-mean-square error = \" + str(rmse))"
   ]
  },
  {
   "cell_type": "code",
   "execution_count": null,
   "metadata": {},
   "outputs": [],
   "source": []
  }
 ],
 "metadata": {
  "kernelspec": {
   "display_name": "Python 3",
   "language": "python",
   "name": "python3"
  },
  "language_info": {
   "codemirror_mode": {
    "name": "ipython",
    "version": 3
   },
   "file_extension": ".py",
   "mimetype": "text/x-python",
   "name": "python",
   "nbconvert_exporter": "python",
   "pygments_lexer": "ipython3",
   "version": "3.7.7"
  }
 },
 "nbformat": 4,
 "nbformat_minor": 4
}
